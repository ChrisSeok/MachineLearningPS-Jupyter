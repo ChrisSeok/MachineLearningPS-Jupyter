{
 "cells": [
  {
   "cell_type": "markdown",
   "metadata": {
    "deletable": false,
    "editable": false,
    "nbgrader": {
     "cell_type": "markdown",
     "checksum": "920adcffeba0798817b43f9fd348690b",
     "grade": false,
     "grade_id": "cell-0347bad33334425f",
     "locked": true,
     "schema_version": 3,
     "solution": false,
     "task": false
    }
   },
   "source": [
    "## Overview\n",
    "\n",
    "This notebook introduces you to Decision Trees, it consists of the following three parts:\n",
    "\n",
    "- <a href=\"#Part-1---Datastructure-and-Manual-Classification\">Part 1 - Datastructure and Manual Classification</a>\n",
    "- <a href=\"#Part-2---Growing-a-Decision-Tree\">Part 2 - Growing a Decision Tree</a>\n",
    "- <a href=\"#Part-3---Full-Iris-Dataset-&amp;-Scikit-Learn\">Part 3 - Full Iris Dataset &amp; Scikit-Learn</a>\n",
    "\n",
    "### Programming Tasks\n",
    "For the programming tasks you will need to replace the following comment and exception with your own code:\n",
    "\n",
    "```python\n",
    "# YOUR CODE HERE\n",
    "raise NotImplementedError()\n",
    "```\n",
    "\n",
    "Most programming tasks are followed by a cell with tests (using the `assert` keyword from python). You can consult these cells while developing your implementation and for validation. Note that there may be additional, hidden tests.\n",
    "\n",
    "**<font size=\"3\" color=\"red\">Note</font>**: The `@contract` decorators make sure the data types and shapes are correct for the inputs and outputs. See [here](https://andreacensi.github.io/contracts/tour.html#quick-tour) for more. If you are more comfortable working without these, you can comment out the lines starting with `@contract`. However, in that case it can get tedious to locate the exact source of a bug."
   ]
  },
  {
   "cell_type": "code",
   "execution_count": 10,
   "metadata": {
    "deletable": false,
    "editable": false,
    "nbgrader": {
     "cell_type": "code",
     "checksum": "ceae117bfa701af7e1185df97568f75d",
     "grade": false,
     "grade_id": "cell-941a063c5cdde198",
     "locked": true,
     "schema_version": 3,
     "solution": false,
     "task": false
    }
   },
   "outputs": [],
   "source": [
    "# DO NOT INSTALL THE LIBRARIES WHEN WORKING ON ifi-europa.uibk.ac.at\n",
    "\n",
    "# Make sure that the required libraries are installed\n",
    "# If you are using Google Colab, remember to upload the requirements file before \n",
    "# running this cell\n",
    "# If you are running this notebook locally, the requirements file needs to be in \n",
    "# the same location as this notebook\n",
    "import os\n",
    "running_local = True if os.getenv('JUPYTERHUB_USER') is None else False\n",
    "    \n",
    "if running_local:\n",
    "    import sys\n",
    "    !{sys.executable} -m pip install -r requirements_week04.txt"
   ]
  },
  {
   "cell_type": "code",
   "execution_count": 11,
   "metadata": {
    "deletable": false,
    "editable": false,
    "nbgrader": {
     "cell_type": "code",
     "checksum": "67bbd81003e15667c70f1475af53e9d2",
     "grade": false,
     "grade_id": "cell-484e65e28ede3a9e",
     "locked": true,
     "schema_version": 3,
     "solution": false,
     "task": false
    }
   },
   "outputs": [],
   "source": [
    "from typing import Callable, List, Union, Optional\n",
    "from copy import deepcopy\n",
    "\n",
    "from IPython.core.display import Markdown\n",
    "import numpy as np\n",
    "import pandas as pd\n",
    "from contracts import contract\n",
    "import matplotlib.pyplot as plt\n",
    "from matplotlib.colors import ListedColormap\n",
    "\n",
    "from sklearn.datasets import load_iris\n",
    "from sklearn.model_selection import train_test_split\n",
    "\n",
    "from decision_tree import NodeBase, print_tree, plot_surface, plot_dataset\n",
    "\n",
    "# Counter for figures\n",
    "figcount = 0\n",
    "\n",
    "# Set the random seed for reproducing results\n",
    "random_seed = 100\n",
    "np.random.seed(random_seed)"
   ]
  },
  {
   "cell_type": "markdown",
   "metadata": {
    "deletable": false,
    "editable": false,
    "nbgrader": {
     "cell_type": "markdown",
     "checksum": "3d3000868f6d1203595d2c3b15ff7348",
     "grade": false,
     "grade_id": "cell-060dfeca07364406",
     "locked": true,
     "schema_version": 3,
     "solution": false,
     "task": false
    }
   },
   "source": [
    "<a href=#Overview> [go to top] </a>\n",
    "# Part 1 - Datastructure and Manual Classification\n",
    "\n",
    "In this part we will implement the datastructure for our decision tree. We will only use *binary splits* in our tree, which allows us to implement the tree as a *binary tree* (see Algorithm and Datastructures course for more information). \n",
    "\n",
    "Once we have our datastructure we will define a function for splitting a node in two *child* nodes, called the *left* and *right* node respectively. We then conclude part 1 by manually constructing a decision tree for classifying the Iris dataset shown above."
   ]
  },
  {
   "cell_type": "markdown",
   "metadata": {
    "deletable": false,
    "editable": false,
    "nbgrader": {
     "cell_type": "markdown",
     "checksum": "291d4758e337dd1c89af975756dc93a5",
     "grade": false,
     "grade_id": "cell-77115bf52d15bb74",
     "locked": true,
     "schema_version": 3,
     "solution": false,
     "task": false
    }
   },
   "source": [
    "## Data\n",
    "\n",
    "For this exercise notebook we will use the Iris dataset. This dataset consists of 3 different types of irises ('Setosa', 'Versicolour', and 'Virginica') and has 150 samples.\n",
    "\n",
    "For the first two parts we will only use two feature dimensions of the dataset, 'petal length' and 'petal width'. In Part 3 we will use the full Iris dataset."
   ]
  },
  {
   "cell_type": "code",
   "execution_count": 12,
   "metadata": {
    "deletable": false,
    "editable": false,
    "nbgrader": {
     "cell_type": "code",
     "checksum": "c0a59811dabece5eb2799242cf1a7c3e",
     "grade": false,
     "grade_id": "cell-09a1dd1dea82edde",
     "locked": true,
     "schema_version": 3,
     "solution": false,
     "task": false
    }
   },
   "outputs": [
    {
     "name": "stdout",
     "output_type": "stream",
     "text": [
      "DATASET INFO:\n",
      "-------------\n",
      "Features:    ['petal length (cm)', 'petal width (cm)']\n",
      "Labels:      ['setosa' 'versicolor' 'virginica']\n",
      "Num samples: 150\n",
      "\n",
      "Random samples from dataset:\n"
     ]
    },
    {
     "data": {
      "text/html": [
       "<div>\n",
       "<style scoped>\n",
       "    .dataframe tbody tr th:only-of-type {\n",
       "        vertical-align: middle;\n",
       "    }\n",
       "\n",
       "    .dataframe tbody tr th {\n",
       "        vertical-align: top;\n",
       "    }\n",
       "\n",
       "    .dataframe thead th {\n",
       "        text-align: right;\n",
       "    }\n",
       "</style>\n",
       "<table border=\"1\" class=\"dataframe\">\n",
       "  <thead>\n",
       "    <tr style=\"text-align: right;\">\n",
       "      <th></th>\n",
       "      <th>petal length (cm)</th>\n",
       "      <th>petal width (cm)</th>\n",
       "      <th>label</th>\n",
       "    </tr>\n",
       "  </thead>\n",
       "  <tbody>\n",
       "    <tr>\n",
       "      <th>128</th>\n",
       "      <td>5.6</td>\n",
       "      <td>2.1</td>\n",
       "      <td>virginica</td>\n",
       "    </tr>\n",
       "    <tr>\n",
       "      <th>11</th>\n",
       "      <td>1.6</td>\n",
       "      <td>0.2</td>\n",
       "      <td>setosa</td>\n",
       "    </tr>\n",
       "    <tr>\n",
       "      <th>118</th>\n",
       "      <td>6.9</td>\n",
       "      <td>2.3</td>\n",
       "      <td>virginica</td>\n",
       "    </tr>\n",
       "    <tr>\n",
       "      <th>15</th>\n",
       "      <td>1.5</td>\n",
       "      <td>0.4</td>\n",
       "      <td>setosa</td>\n",
       "    </tr>\n",
       "    <tr>\n",
       "      <th>123</th>\n",
       "      <td>4.9</td>\n",
       "      <td>1.8</td>\n",
       "      <td>virginica</td>\n",
       "    </tr>\n",
       "    <tr>\n",
       "      <th>135</th>\n",
       "      <td>6.1</td>\n",
       "      <td>2.3</td>\n",
       "      <td>virginica</td>\n",
       "    </tr>\n",
       "    <tr>\n",
       "      <th>32</th>\n",
       "      <td>1.5</td>\n",
       "      <td>0.1</td>\n",
       "      <td>setosa</td>\n",
       "    </tr>\n",
       "    <tr>\n",
       "      <th>1</th>\n",
       "      <td>1.4</td>\n",
       "      <td>0.2</td>\n",
       "      <td>setosa</td>\n",
       "    </tr>\n",
       "    <tr>\n",
       "      <th>116</th>\n",
       "      <td>5.5</td>\n",
       "      <td>1.8</td>\n",
       "      <td>virginica</td>\n",
       "    </tr>\n",
       "    <tr>\n",
       "      <th>45</th>\n",
       "      <td>1.4</td>\n",
       "      <td>0.3</td>\n",
       "      <td>setosa</td>\n",
       "    </tr>\n",
       "  </tbody>\n",
       "</table>\n",
       "</div>"
      ],
      "text/plain": [
       "     petal length (cm)  petal width (cm)      label\n",
       "128                5.6               2.1  virginica\n",
       "11                 1.6               0.2     setosa\n",
       "118                6.9               2.3  virginica\n",
       "15                 1.5               0.4     setosa\n",
       "123                4.9               1.8  virginica\n",
       "135                6.1               2.3  virginica\n",
       "32                 1.5               0.1     setosa\n",
       "1                  1.4               0.2     setosa\n",
       "116                5.5               1.8  virginica\n",
       "45                 1.4               0.3     setosa"
      ]
     },
     "execution_count": 12,
     "metadata": {},
     "output_type": "execute_result"
    }
   ],
   "source": [
    "iris_2d = load_iris()\n",
    "iris_2d.labels = iris_2d.target_names\n",
    "iris_2d.feature_names = iris_2d.feature_names[2:4]\n",
    "iris_2d.data = iris_2d.data[:, 2:4]\n",
    "\n",
    "X = iris_2d.data\n",
    "y = iris_2d.labels[iris_2d.target]\n",
    "\n",
    "print(\"DATASET INFO:\\n-------------\")\n",
    "print(f\"Features:    {iris_2d.feature_names}\")\n",
    "print(f\"Labels:      {iris_2d.labels}\")\n",
    "print(f\"Num samples: {len(X)}\")\n",
    "\n",
    "# Convert to pandas dataframe \n",
    "df = pd.DataFrame(data=X, columns=iris_2d.feature_names)\n",
    "df['label'] = pd.Series(y, dtype='category')\n",
    "\n",
    "print(\"\\nRandom samples from dataset:\")\n",
    "df.sample(frac = 1).head(10)"
   ]
  },
  {
   "cell_type": "code",
   "execution_count": 13,
   "metadata": {},
   "outputs": [
    {
     "data": {
      "text/plain": [
       "(150, 2)"
      ]
     },
     "execution_count": 13,
     "metadata": {},
     "output_type": "execute_result"
    }
   ],
   "source": [
    "X.shape"
   ]
  },
  {
   "cell_type": "code",
   "execution_count": 14,
   "metadata": {
    "deletable": false,
    "editable": false,
    "nbgrader": {
     "cell_type": "code",
     "checksum": "0d961c52ed0adb3b629411c371b223b4",
     "grade": false,
     "grade_id": "cell-8a24b3f4d22823fb",
     "locked": true,
     "schema_version": 3,
     "solution": false,
     "task": false
    }
   },
   "outputs": [
    {
     "data": {
      "image/png": "[encoded data removed]",
      "text/plain": [
       "<Figure size 720x720 with 1 Axes>"
      ]
     },
     "metadata": {
      "needs_background": "light"
     },
     "output_type": "display_data"
    }
   ],
   "source": [
    "# we pick a color map to match that used by decision tree graphviz \n",
    "color_palette = {'setosa': '#e58139', 'versicolor': '#3de684', 'virginica': '#8139e5'}\n",
    "\n",
    "plot_dataset(X=X, y=y, feature_names=iris_2d.feature_names, markers=[ 'o', 's', '^'], cmap=list(color_palette.values()))"
   ]
  },
  {
   "cell_type": "markdown",
   "metadata": {
    "deletable": false,
    "editable": false,
    "nbgrader": {
     "cell_type": "markdown",
     "checksum": "067d5da803848d186570281c2767d7d2",
     "grade": false,
     "grade_id": "cell-625f1c1308bd4593",
     "locked": true,
     "schema_version": 3,
     "solution": false,
     "task": false
    }
   },
   "source": [
    "## Datastructure\n",
    "\n",
    "The whole tree is described from the *root* node down. The *root* node can contain references to two *child* nodes, the *left* and *right* child. Each *child* node can in turn have references two more *child* nodes, etc. \n",
    "\n",
    "A simple example of a tree of depth 2:\n",
    "```\n",
    "        root\n",
    "       /    \\\n",
    "    left    right\n",
    "   /   \\\n",
    "left  right\n",
    "```\n",
    "\n",
    "Each *node* in the tree will be an instance of the same `Node` class. We have already implemented the base class `NodeBase` from which `Node` class is a sub-class. For more information on the functionality provided by the `NodeBase` class you can:\n",
    "\n",
    "- open and inspect the contents of the [decision_tree.py](./decision_tree.py) source file;\n",
    "- use the ipython helper `NodeBase??` to print the source code of the whole class; or\n",
    "- use the ipython helper `NodeBase?` to print the details of on method or attribute.\n",
    "\n",
    "We can create a tree of the example above using the following code. Note that this is an illustrative example without actually values, the variables used are placeholders:\n",
    "\n",
    "```\n",
    "left_grandchild  = Node(X=X_ll, \n",
    "                        y=y_ll)\n",
    "right_grandchild = Node(X=X_lr, \n",
    "                        y=y_lr)\n",
    "left_child       = Node(X=X_l, \n",
    "                        y=y_l, \n",
    "                        left=left_grandchild,\n",
    "                        right=right_grandchild,\n",
    "                        feature_dim=dim_l, \n",
    "                        threshold=threshold_l)\n",
    "right_child      = Node(X=X_r, \n",
    "                        y=y_r)\n",
    "root             = Node(X=X, \n",
    "                        y=y,\n",
    "                        left=left_child,\n",
    "                        right=right_child,\n",
    "                        feature_dim=dim_root, \n",
    "                        threshold=threshold_root)\n",
    "```\n",
    "\n",
    "where `X` and `y` contain all the samples in the dataset. The `root` node will be split along feature dimension `dim_root` using threshold `threshold_root`. This will give us two child nodes, `left_child` and `right_child`, where `left_child` contains data `X_l` and `y_l` and `right_child` contains data `X_r` and `y_r`. Note that `X = {X_l, X_r}` and `y = {y_l, y_r}`, in other words all the data is divided between the two child nodes.\n",
    "\n",
    "`left_child` is split again into two nodes `left_grandchild` and `right_grandchild` along feature dimension `dim_l` and threshold `threshold_l`. `left_grandchild` contains data `X_ll` and `y_ll` and `right_grandchild` contains data `X_lr` and `y_lr`. Note that `X_l = {X_ll, X_lr}` and `y_l = {y_ll, y_lr}`, and in turn we also have `X = {X_ll, X_lr, X_r}` and `y = {y_ll, y_lr, y_r}`."
   ]
  },
  {
   "cell_type": "code",
   "execution_count": 15,
   "metadata": {},
   "outputs": [],
   "source": [
    "NodeBase?\n",
    "# NodeBase.labels?\n",
    "# NodeBase.__len__?\n",
    "# NodeBase??"
   ]
  },
  {
   "cell_type": "markdown",
   "metadata": {
    "deletable": false,
    "editable": false,
    "nbgrader": {
     "cell_type": "markdown",
     "checksum": "81ba9fed54cbed33a6679ce084e047d9",
     "grade": false,
     "grade_id": "cell-3b75c57820e30abd",
     "locked": true,
     "schema_version": 3,
     "solution": false,
     "task": false
    }
   },
   "source": [
    "Your first task is to finish the implementation of the `Node` class below."
   ]
  },
  {
   "cell_type": "code",
   "execution_count": 19,
   "metadata": {
    "deletable": false,
    "nbgrader": {
     "cell_type": "code",
     "checksum": "1247ceb641b0ba51f0db688597d27736",
     "grade": false,
     "grade_id": "cell-11e6105598f6a27b",
     "locked": false,
     "schema_version": 3,
     "solution": true,
     "task": false
    }
   },
   "outputs": [],
   "source": [
    "class Node(NodeBase):\n",
    "    \n",
    "    @contract(returns='bool')\n",
    "    def is_leaf(self):\n",
    "        \"\"\"Returns True if node is a leaf node and False if node is a decision node\n",
    "        \n",
    "        TIP: A leaf node does not have any child nodes. In the example above \n",
    "        `left_grandchild`, `right_grandchild` and `right_child` are leaf nodes. Have\n",
    "        a look at the `NodeBase` class to see how you can check if a node has any\n",
    "        child nodes.\n",
    "        \n",
    "        :returns: True if leaf node, False if decision node\n",
    "        \"\"\"\n",
    "        print(self.children)\n",
    "        if len(self.children) == 0:\n",
    "            leaf = True\n",
    "        else: \n",
    "            leaf = False\n",
    "        \n",
    "        return leaf\n",
    "    \n",
    "    @contract(label='None | str',\n",
    "              returns='int, >=0')\n",
    "    def num_samples(self, label = None):\n",
    "        \"\"\"Returns total number of samples or number of samples of a class with label \n",
    "        in the node\n",
    "        \n",
    "        Two cases:\n",
    "            - If no label is given, return total number of samples in node\n",
    "            - If label is given, return the number of samples of the class with label\n",
    "          \n",
    "          \n",
    "        Example:\n",
    "           X = np.array([1.0, 2.0, 3.0, 4.0]).reshape(4, 1)\n",
    "           y = np.array(['a', 'a', 'b', 'c']).reshape(4, 1)\n",
    "           node = Node(X=X, y=y)\n",
    "            \n",
    "            node.num_samples() == 4\n",
    "            node.num_samples(label='a') == 2\n",
    "            node.num_samples(label='b') == 1\n",
    "            node.num_samples(label='c') == 1\n",
    "            \n",
    "        \n",
    "        :param label: String with the label for which to return number of samples\n",
    "        :returns: Number of samples\n",
    "        \"\"\"\n",
    "        if (label == None):\n",
    "            samples = len(self.X) #Can access X,y with self.\n",
    "        else:\n",
    "            samples = (self.y).count(label)\n",
    "            \n",
    "        return samples\n",
    "    \n",
    "    \n",
    "    \n",
    "    @contract(label='str',\n",
    "              returns='float, >=0, <=1')\n",
    "    \n",
    "    def probability(self, label):\n",
    "        \"\"\"Compute probability of a given class in node\n",
    "        \n",
    "        \n",
    "        Example:\n",
    "           X = np.array([1.0, 2.0, 3.0, 4.0]).reshape(4, 1)\n",
    "           y = np.array(['a', 'a', 'b', 'c']).reshape(4, 1)\n",
    "           node = Node(X=X, y=y)\n",
    "           \n",
    "           node.probability(label='a') == 0.5\n",
    "           node.probability(label='b') == 0.25\n",
    "           node.probability(label='c') == 0.25\n",
    "           \n",
    "        \n",
    "        :param label: Class label\n",
    "        :returns: Probability\n",
    "        \"\"\"\n",
    "        # Set probability to zero when node contains no samples\n",
    "        if self.num_samples() == 0:\n",
    "            return 0.0\n",
    "        \n",
    "        else:\n",
    "            prob = self.num_samples(label)/len(self.y)\n",
    "            \n",
    "        \n",
    "        return prob\n",
    "    \n",
    "    \n",
    "    \n",
    "    @contract(returns='array[N](float, >=0, <=1)')\n",
    "    def probabilities(self):\n",
    "        \"\"\"Compute probabilities of all classes in node\n",
    "        \n",
    "        TIP: use the attribute `self.labels` to get an array with all labels in \n",
    "             the node's target set `y`.\n",
    "        \n",
    "        \n",
    "        Example:\n",
    "           X = np.array([1.0, 2.0, 3.0, 4.0]).reshape(4, 1)\n",
    "           y = np.array(['a', 'a', 'b', 'c']).reshape(4, 1)\n",
    "           node = Node(X=X, y=y)\n",
    "           \n",
    "           node.probabilities() == np.array([0.5, 0.25, 0.25])             \n",
    "        \n",
    "        \n",
    "        :returns: Array with probabilities of each class\n",
    "        \"\"\"\n",
    "        \n",
    "        labelarr = self.labels\n",
    "        probs = []\n",
    "        \n",
    "        for i in range (len(labelarr)):\n",
    "            probs.append(probability(self.labels[i]))\n",
    "        \n",
    "        return probs            \n",
    "        \n",
    "    @contract(returns='str')\n",
    "    def label(self):\n",
    "        \"\"\"Return class label of node\n",
    "        \n",
    "        Example:\n",
    "           X = np.array([1.0, 2.0, 3.0, 4.0]).reshape(4, 1)\n",
    "           y = np.array(['a', 'a', 'b', 'c']).reshape(4, 1)\n",
    "           node = Node(X=X, y=y)\n",
    "           \n",
    "           node.label() == 'a'\n",
    "           \n",
    "           \n",
    "        Example:\n",
    "           X = np.array([1.0, 2.0, 3.0, 4.0, 5.0]).reshape(5, 1)\n",
    "           y = np.array(['a', 'a', 'b', 'b', 'c']).reshape(5, 1)\n",
    "           node = Node(X=X, y=y)\n",
    "           \n",
    "           node.label() == 'None'\n",
    "        \n",
    "        :returns: Class label of the node \n",
    "        \"\"\"\n",
    "        \n",
    "        \n",
    "        if self.num_samples() == 0:\n",
    "            return 'None'\n",
    "        \n",
    "        # Return 'None' if no label can be assigned\n",
    "        else: #find the biggest prob value of class and see if there is duplicate\n",
    "            probarr = self.probabilities\n",
    "            if pronarr.count(np.maximum(probarr))>1: #if biggest prob is more than two, None\n",
    "                assignlabel = 'None'\n",
    "            else: #find label that matches probability as biggest prob\n",
    "                for i in range (len(self.labels)):\n",
    "                    if(probability(self.labels[i])==np.maximum(probarr)):\n",
    "                        assignlabel = labels[i]\n",
    "                \n",
    "\n",
    "        return assignlabel\n",
    "    \n",
    "    \n",
    "    \n",
    "    \n",
    "    @contract(x='array[N]',\n",
    "              returns='str')\n",
    "    \n",
    "    def predict(self, x):\n",
    "        \"\"\"Predict class label for input sample `x`\n",
    "        Example:\n",
    "           X = np.array([1.0, 2.0, 3.0, 4.0]).reshape(4, 1)\n",
    "           y = np.array(['a', 'a', 'b', 'c']).reshape(4, 1)\n",
    "           \n",
    "           left_grandchild = Node(\n",
    "               X=X[2], \n",
    "               y=y[2])\n",
    "           right_grandchild = Node(\n",
    "               X=X[3], \n",
    "               y=y[3])\n",
    "           right_child = Node(\n",
    "               X=X[2:], \n",
    "               y=y[2:], \n",
    "               left=left_grandchild, \n",
    "               right=right_grandchild, \n",
    "               feature_dim=0, \n",
    "               threshold=3.5)\n",
    "           left_child = Node(\n",
    "               X=X[:2], \n",
    "               y=y[:2])\n",
    "           root = Node(\n",
    "               X=X, \n",
    "               y=y, \n",
    "               left=left_child,\n",
    "               right=right_child,\n",
    "               feature_dim=0, \n",
    "               threshold=2.5)\n",
    "               \n",
    "            root.predict(x=np.array([1.5])) == 'a'\n",
    "            root.predict(x=np.array([3.2])) == 'b'\n",
    "            root.predict(x=np.array([4.5])) == 'c'\n",
    "           \n",
    "           \n",
    "        \n",
    "        :param x: Input sample\n",
    "        :returns: Class label\n",
    "        \"\"\"\n",
    "        var = np.rint(x)\n",
    "        return self.label(var) #??\n"
   ]
  },
  {
   "cell_type": "code",
   "execution_count": 20,
   "metadata": {
    "deletable": false,
    "editable": false,
    "nbgrader": {
     "cell_type": "code",
     "checksum": "350667669644a4f826e7bd648f06fe9e",
     "grade": true,
     "grade_id": "cell-a1269526d79b9cce-part-1",
     "locked": true,
     "points": 1,
     "schema_version": 3,
     "solution": false,
     "task": false
    }
   },
   "outputs": [
    {
     "name": "stdout",
     "output_type": "stream",
     "text": [
      "[None, None]\n"
     ]
    },
    {
     "ename": "NameError",
     "evalue": "name 'pronarr' is not defined",
     "output_type": "error",
     "traceback": [
      "\u001b[0;31m---------------------------------------------------------------------------\u001b[0m",
      "\u001b[0;31mNameError\u001b[0m                                 Traceback (most recent call last)",
      "\u001b[0;32m/tmp/ipykernel_418/2639716388.py\u001b[0m in \u001b[0;36m<cell line: 12>\u001b[0;34m()\u001b[0m\n\u001b[1;32m     10\u001b[0m \u001b[0;34m\u001b[0m\u001b[0m\n\u001b[1;32m     11\u001b[0m \u001b[0;31m# Testing is_leaf method\u001b[0m\u001b[0;34m\u001b[0m\u001b[0;34m\u001b[0m\u001b[0m\n\u001b[0;32m---> 12\u001b[0;31m \u001b[0;32massert\u001b[0m \u001b[0mnode\u001b[0m\u001b[0;34m.\u001b[0m\u001b[0mis_leaf\u001b[0m\u001b[0;34m(\u001b[0m\u001b[0;34m)\u001b[0m \u001b[0;34m==\u001b[0m \u001b[0;32mFalse\u001b[0m\u001b[0;34m\u001b[0m\u001b[0;34m\u001b[0m\u001b[0m\n\u001b[0m\u001b[1;32m     13\u001b[0m \u001b[0;32massert\u001b[0m \u001b[0mleft_child\u001b[0m\u001b[0;34m.\u001b[0m\u001b[0mis_leaf\u001b[0m\u001b[0;34m(\u001b[0m\u001b[0;34m)\u001b[0m \u001b[0;34m==\u001b[0m \u001b[0;32mTrue\u001b[0m\u001b[0;34m\u001b[0m\u001b[0;34m\u001b[0m\u001b[0m\n\u001b[1;32m     14\u001b[0m \u001b[0;32massert\u001b[0m \u001b[0mright_child\u001b[0m\u001b[0;34m.\u001b[0m\u001b[0mis_leaf\u001b[0m\u001b[0;34m(\u001b[0m\u001b[0;34m)\u001b[0m \u001b[0;34m==\u001b[0m \u001b[0;32mTrue\u001b[0m\u001b[0;34m\u001b[0m\u001b[0;34m\u001b[0m\u001b[0m\n",
      "\u001b[0;32m/opt/conda/lib/python3.9/site-packages/decorator.py\u001b[0m in \u001b[0;36mfun\u001b[0;34m(*args, **kw)\u001b[0m\n\u001b[1;32m    230\u001b[0m             \u001b[0;32mif\u001b[0m \u001b[0;32mnot\u001b[0m \u001b[0mkwsyntax\u001b[0m\u001b[0;34m:\u001b[0m\u001b[0;34m\u001b[0m\u001b[0;34m\u001b[0m\u001b[0m\n\u001b[1;32m    231\u001b[0m                 \u001b[0margs\u001b[0m\u001b[0;34m,\u001b[0m \u001b[0mkw\u001b[0m \u001b[0;34m=\u001b[0m \u001b[0mfix\u001b[0m\u001b[0;34m(\u001b[0m\u001b[0margs\u001b[0m\u001b[0;34m,\u001b[0m \u001b[0mkw\u001b[0m\u001b[0;34m,\u001b[0m \u001b[0msig\u001b[0m\u001b[0;34m)\u001b[0m\u001b[0;34m\u001b[0m\u001b[0;34m\u001b[0m\u001b[0m\n\u001b[0;32m--> 232\u001b[0;31m             \u001b[0;32mreturn\u001b[0m \u001b[0mcaller\u001b[0m\u001b[0;34m(\u001b[0m\u001b[0mfunc\u001b[0m\u001b[0;34m,\u001b[0m \u001b[0;34m*\u001b[0m\u001b[0;34m(\u001b[0m\u001b[0mextras\u001b[0m \u001b[0;34m+\u001b[0m \u001b[0margs\u001b[0m\u001b[0;34m)\u001b[0m\u001b[0;34m,\u001b[0m \u001b[0;34m**\u001b[0m\u001b[0mkw\u001b[0m\u001b[0;34m)\u001b[0m\u001b[0;34m\u001b[0m\u001b[0;34m\u001b[0m\u001b[0m\n\u001b[0m\u001b[1;32m    233\u001b[0m     \u001b[0mfun\u001b[0m\u001b[0;34m.\u001b[0m\u001b[0m__name__\u001b[0m \u001b[0;34m=\u001b[0m \u001b[0mfunc\u001b[0m\u001b[0;34m.\u001b[0m\u001b[0m__name__\u001b[0m\u001b[0;34m\u001b[0m\u001b[0;34m\u001b[0m\u001b[0m\n\u001b[1;32m    234\u001b[0m     \u001b[0mfun\u001b[0m\u001b[0;34m.\u001b[0m\u001b[0m__doc__\u001b[0m \u001b[0;34m=\u001b[0m \u001b[0mfunc\u001b[0m\u001b[0;34m.\u001b[0m\u001b[0m__doc__\u001b[0m\u001b[0;34m\u001b[0m\u001b[0;34m\u001b[0m\u001b[0m\n",
      "\u001b[0;32m/opt/conda/lib/python3.9/site-packages/contracts/main.py\u001b[0m in \u001b[0;36mcontracts_checker\u001b[0;34m(unused, *args, **kwargs)\u001b[0m\n\u001b[1;32m    268\u001b[0m                     \u001b[0;32mraise\u001b[0m \u001b[0me\u001b[0m\u001b[0;34m\u001b[0m\u001b[0;34m\u001b[0m\u001b[0m\n\u001b[1;32m    269\u001b[0m \u001b[0;34m\u001b[0m\u001b[0m\n\u001b[0;32m--> 270\u001b[0;31m         \u001b[0mresult\u001b[0m \u001b[0;34m=\u001b[0m \u001b[0mfunction_\u001b[0m\u001b[0;34m(\u001b[0m\u001b[0;34m*\u001b[0m\u001b[0margs\u001b[0m\u001b[0;34m,\u001b[0m \u001b[0;34m**\u001b[0m\u001b[0mkwargs\u001b[0m\u001b[0;34m)\u001b[0m\u001b[0;34m\u001b[0m\u001b[0;34m\u001b[0m\u001b[0m\n\u001b[0m\u001b[1;32m    271\u001b[0m \u001b[0;34m\u001b[0m\u001b[0m\n\u001b[1;32m    272\u001b[0m         \u001b[0;32mif\u001b[0m \u001b[0mreturns_parsed\u001b[0m \u001b[0;32mis\u001b[0m \u001b[0;32mnot\u001b[0m \u001b[0;32mNone\u001b[0m\u001b[0;34m:\u001b[0m\u001b[0;34m\u001b[0m\u001b[0;34m\u001b[0m\u001b[0m\n",
      "\u001b[0;32m/tmp/ipykernel_418/2811480028.py\u001b[0m in \u001b[0;36mis_leaf\u001b[0;34m(self)\u001b[0m\n\u001b[1;32m     12\u001b[0m         \u001b[0;34m:\u001b[0m\u001b[0mreturns\u001b[0m\u001b[0;34m:\u001b[0m \u001b[0;32mTrue\u001b[0m \u001b[0;32mif\u001b[0m \u001b[0mleaf\u001b[0m \u001b[0mnode\u001b[0m\u001b[0;34m,\u001b[0m \u001b[0;32mFalse\u001b[0m \u001b[0;32mif\u001b[0m \u001b[0mdecision\u001b[0m \u001b[0mnode\u001b[0m\u001b[0;34m\u001b[0m\u001b[0;34m\u001b[0m\u001b[0m\n\u001b[1;32m     13\u001b[0m         \"\"\"\n\u001b[0;32m---> 14\u001b[0;31m         \u001b[0mprint\u001b[0m\u001b[0;34m(\u001b[0m\u001b[0mself\u001b[0m\u001b[0;34m.\u001b[0m\u001b[0mchildren\u001b[0m\u001b[0;34m)\u001b[0m\u001b[0;34m\u001b[0m\u001b[0;34m\u001b[0m\u001b[0m\n\u001b[0m\u001b[1;32m     15\u001b[0m         \u001b[0;32mif\u001b[0m \u001b[0mlen\u001b[0m\u001b[0;34m(\u001b[0m\u001b[0mself\u001b[0m\u001b[0;34m.\u001b[0m\u001b[0mchildren\u001b[0m\u001b[0;34m)\u001b[0m \u001b[0;34m==\u001b[0m \u001b[0;36m0\u001b[0m\u001b[0;34m:\u001b[0m\u001b[0;34m\u001b[0m\u001b[0;34m\u001b[0m\u001b[0m\n\u001b[1;32m     16\u001b[0m             \u001b[0mleaf\u001b[0m \u001b[0;34m=\u001b[0m \u001b[0;32mTrue\u001b[0m\u001b[0;34m\u001b[0m\u001b[0;34m\u001b[0m\u001b[0m\n",
      "\u001b[0;32m~/04 Decision Trees/decision_tree.py\u001b[0m in \u001b[0;36m__repr__\u001b[0;34m(self)\u001b[0m\n\u001b[1;32m    123\u001b[0m             \u001b[0;32mreturn\u001b[0m \u001b[0;34mf\"Leaf(num_samples={self.num_samples()}, label={self.label()})\"\u001b[0m\u001b[0;34m\u001b[0m\u001b[0;34m\u001b[0m\u001b[0m\n\u001b[1;32m    124\u001b[0m         \u001b[0;32melse\u001b[0m\u001b[0;34m:\u001b[0m\u001b[0;34m\u001b[0m\u001b[0;34m\u001b[0m\u001b[0m\n\u001b[0;32m--> 125\u001b[0;31m             \u001b[0;32mreturn\u001b[0m \u001b[0;34mf\"Node(num_samples={self.num_samples()}, label={self.label()}, feature_dim={self.feature_dim}, threshold={self.threshold})\"\u001b[0m\u001b[0;34m\u001b[0m\u001b[0;34m\u001b[0m\u001b[0m\n\u001b[0m\u001b[1;32m    126\u001b[0m \u001b[0;34m\u001b[0m\u001b[0m\n\u001b[1;32m    127\u001b[0m \u001b[0;34m\u001b[0m\u001b[0m\n",
      "\u001b[0;32m/opt/conda/lib/python3.9/site-packages/decorator.py\u001b[0m in \u001b[0;36mfun\u001b[0;34m(*args, **kw)\u001b[0m\n\u001b[1;32m    230\u001b[0m             \u001b[0;32mif\u001b[0m \u001b[0;32mnot\u001b[0m \u001b[0mkwsyntax\u001b[0m\u001b[0;34m:\u001b[0m\u001b[0;34m\u001b[0m\u001b[0;34m\u001b[0m\u001b[0m\n\u001b[1;32m    231\u001b[0m                 \u001b[0margs\u001b[0m\u001b[0;34m,\u001b[0m \u001b[0mkw\u001b[0m \u001b[0;34m=\u001b[0m \u001b[0mfix\u001b[0m\u001b[0;34m(\u001b[0m\u001b[0margs\u001b[0m\u001b[0;34m,\u001b[0m \u001b[0mkw\u001b[0m\u001b[0;34m,\u001b[0m \u001b[0msig\u001b[0m\u001b[0;34m)\u001b[0m\u001b[0;34m\u001b[0m\u001b[0;34m\u001b[0m\u001b[0m\n\u001b[0;32m--> 232\u001b[0;31m             \u001b[0;32mreturn\u001b[0m \u001b[0mcaller\u001b[0m\u001b[0;34m(\u001b[0m\u001b[0mfunc\u001b[0m\u001b[0;34m,\u001b[0m \u001b[0;34m*\u001b[0m\u001b[0;34m(\u001b[0m\u001b[0mextras\u001b[0m \u001b[0;34m+\u001b[0m \u001b[0margs\u001b[0m\u001b[0;34m)\u001b[0m\u001b[0;34m,\u001b[0m \u001b[0;34m**\u001b[0m\u001b[0mkw\u001b[0m\u001b[0;34m)\u001b[0m\u001b[0;34m\u001b[0m\u001b[0;34m\u001b[0m\u001b[0m\n\u001b[0m\u001b[1;32m    233\u001b[0m     \u001b[0mfun\u001b[0m\u001b[0;34m.\u001b[0m\u001b[0m__name__\u001b[0m \u001b[0;34m=\u001b[0m \u001b[0mfunc\u001b[0m\u001b[0;34m.\u001b[0m\u001b[0m__name__\u001b[0m\u001b[0;34m\u001b[0m\u001b[0;34m\u001b[0m\u001b[0m\n\u001b[1;32m    234\u001b[0m     \u001b[0mfun\u001b[0m\u001b[0;34m.\u001b[0m\u001b[0m__doc__\u001b[0m \u001b[0;34m=\u001b[0m \u001b[0mfunc\u001b[0m\u001b[0;34m.\u001b[0m\u001b[0m__doc__\u001b[0m\u001b[0;34m\u001b[0m\u001b[0;34m\u001b[0m\u001b[0m\n",
      "\u001b[0;32m/opt/conda/lib/python3.9/site-packages/contracts/main.py\u001b[0m in \u001b[0;36mcontracts_checker\u001b[0;34m(unused, *args, **kwargs)\u001b[0m\n\u001b[1;32m    268\u001b[0m                     \u001b[0;32mraise\u001b[0m \u001b[0me\u001b[0m\u001b[0;34m\u001b[0m\u001b[0;34m\u001b[0m\u001b[0m\n\u001b[1;32m    269\u001b[0m \u001b[0;34m\u001b[0m\u001b[0m\n\u001b[0;32m--> 270\u001b[0;31m         \u001b[0mresult\u001b[0m \u001b[0;34m=\u001b[0m \u001b[0mfunction_\u001b[0m\u001b[0;34m(\u001b[0m\u001b[0;34m*\u001b[0m\u001b[0margs\u001b[0m\u001b[0;34m,\u001b[0m \u001b[0;34m**\u001b[0m\u001b[0mkwargs\u001b[0m\u001b[0;34m)\u001b[0m\u001b[0;34m\u001b[0m\u001b[0;34m\u001b[0m\u001b[0m\n\u001b[0m\u001b[1;32m    271\u001b[0m \u001b[0;34m\u001b[0m\u001b[0m\n\u001b[1;32m    272\u001b[0m         \u001b[0;32mif\u001b[0m \u001b[0mreturns_parsed\u001b[0m \u001b[0;32mis\u001b[0m \u001b[0;32mnot\u001b[0m \u001b[0;32mNone\u001b[0m\u001b[0;34m:\u001b[0m\u001b[0;34m\u001b[0m\u001b[0;34m\u001b[0m\u001b[0m\n",
      "\u001b[0;32m/tmp/ipykernel_418/2811480028.py\u001b[0m in \u001b[0;36mlabel\u001b[0;34m(self)\u001b[0m\n\u001b[1;32m    142\u001b[0m         \u001b[0;32melse\u001b[0m\u001b[0;34m:\u001b[0m \u001b[0;31m#find the biggest prob value of class and see if there is duplicate\u001b[0m\u001b[0;34m\u001b[0m\u001b[0;34m\u001b[0m\u001b[0m\n\u001b[1;32m    143\u001b[0m             \u001b[0mprobarr\u001b[0m \u001b[0;34m=\u001b[0m \u001b[0mself\u001b[0m\u001b[0;34m.\u001b[0m\u001b[0mprobabilities\u001b[0m\u001b[0;34m\u001b[0m\u001b[0;34m\u001b[0m\u001b[0m\n\u001b[0;32m--> 144\u001b[0;31m             \u001b[0;32mif\u001b[0m \u001b[0mpronarr\u001b[0m\u001b[0;34m.\u001b[0m\u001b[0mcount\u001b[0m\u001b[0;34m(\u001b[0m\u001b[0mnp\u001b[0m\u001b[0;34m.\u001b[0m\u001b[0mmaximum\u001b[0m\u001b[0;34m(\u001b[0m\u001b[0mprobarr\u001b[0m\u001b[0;34m)\u001b[0m\u001b[0;34m)\u001b[0m\u001b[0;34m>\u001b[0m\u001b[0;36m1\u001b[0m\u001b[0;34m:\u001b[0m \u001b[0;31m#if biggest prob is more than two, None\u001b[0m\u001b[0;34m\u001b[0m\u001b[0;34m\u001b[0m\u001b[0m\n\u001b[0m\u001b[1;32m    145\u001b[0m                 \u001b[0massignlabel\u001b[0m \u001b[0;34m=\u001b[0m \u001b[0;34m'None'\u001b[0m\u001b[0;34m\u001b[0m\u001b[0;34m\u001b[0m\u001b[0m\n\u001b[1;32m    146\u001b[0m             \u001b[0;32melse\u001b[0m\u001b[0;34m:\u001b[0m \u001b[0;31m#find label that matches probability as biggest prob\u001b[0m\u001b[0;34m\u001b[0m\u001b[0;34m\u001b[0m\u001b[0m\n",
      "\u001b[0;31mNameError\u001b[0m: name 'pronarr' is not defined"
     ]
    }
   ],
   "source": [
    "# We create root node with random child nodes for testing\n",
    "left_child = Node(X=X[:40], y=y[:40])\n",
    "right_child = Node(X=X[40:], y=y[40:])\n",
    "node = Node(X=X, \n",
    "            y=y, \n",
    "            left=left_child,\n",
    "            right=right_child,\n",
    "            feature_dim=0, \n",
    "            threshold=3.5)\n",
    "\n",
    "# Testing is_leaf method\n",
    "assert node.is_leaf() == False\n",
    "assert left_child.is_leaf() == True\n",
    "assert right_child.is_leaf() == True\n",
    "\n",
    "# Test num_samples, probability and probabilities methods\n",
    "assert node.num_samples() == 150\n",
    "for label in iris_2d.labels:\n",
    "    assert node.num_samples(label=label) == 50, f\"{node.num_samples(label=label)} != 50\"\n",
    "    assert node.probability(label=label) == 1./3., f\"{node.probability(label=label)} != 1/3\"\n",
    "np.testing.assert_allclose(node.probabilities(), [1./3.] * 3)\n",
    "\n",
    "# Test label method\n",
    "assert node.label() == 'None', f\"All classes have equal probability ({node.probabilities()}) \\\n",
    "therefore no class can be assigned and `node.label()` should return `None`\"\n",
    "\n",
    "assert left_child.label() == 'setosa', f\"Class 'setosa' has a larger probability \\\n",
    "({left_child.probability(label='setosa'):.2f}) than 'versicolor' ({left_child.probability(label='versicolor'):.2f}) \\\n",
    "and 'virginica' ({left_child.probability(label='virginica'):.2f}). Therefore 'setosa' should be returned as \\\n",
    "class label.\"\n",
    "\n",
    "# Test predict method\n",
    "assert left_child.predict(x=X[0]) == 'setosa', f\"`left_child` is a leaf node with the largest probability \\\n",
    "for class 'setosa' and should return that as label.\"\n",
    "assert right_child.predict(x=X[-1]) == 'None', f\"`right_child` has equal probabilities for class \\\n",
    "'versicolor' and 'virginica' and should therefore return 'None' as label.\"\n",
    "assert node.predict(x=X[0]) == 'setosa', f\"`node` is a decision node and should pass the \\\n",
    "decision for the class label on to one of its child nodes depending on the `feature_dim` \\\n",
    "and `threshold` values. For sample {X[0]} the decision should be passed on to the left node.\"\n",
    "assert node.predict(x=X[-1]) == 'None', f\"`node` is a decision node and should pass the \\\n",
    "decision for the class label on to one of its child nodes depending on the `feature_dim` \\\n",
    "and `threshold` values. For sample {X[-1]} the decision should be passed on to the right node.\""
   ]
  },
  {
   "cell_type": "markdown",
   "metadata": {
    "deletable": false,
    "editable": false,
    "nbgrader": {
     "cell_type": "markdown",
     "checksum": "98ef35a5b2fc65dd945da31b3af2a3a3",
     "grade": false,
     "grade_id": "cell-8ada9ea1fae67975",
     "locked": true,
     "schema_version": 3,
     "solution": false,
     "task": false
    }
   },
   "source": [
    "## Splitting a Node\n",
    "\n",
    "In this task you are going to write a function for splitting a node using *numeric* split. \n",
    "\n",
    "We start with a node with input array `X` and target array `y` and split the node according to some feature dimension and threshold. We use the following decision rule in our decision nodes:\n",
    "\n",
    "$$x_\\text{feature_dim} \\leq \\text{threshold}$$\n",
    "\n",
    "all samples for which the above expression is true are assigned to the `left` child node and all the other samples to the `right` child node."
   ]
  },
  {
   "cell_type": "code",
   "execution_count": null,
   "metadata": {
    "deletable": false,
    "nbgrader": {
     "cell_type": "code",
     "checksum": "c797e25e3829f3153fd7dd4fca47bf67",
     "grade": false,
     "grade_id": "cell-92f70d017adca26e",
     "locked": false,
     "schema_version": 3,
     "solution": true,
     "task": false
    }
   },
   "outputs": [],
   "source": [
    "@contract(feature_dim='int, >=0',\n",
    "          threshold='float')\n",
    "def split_node(node, feature_dim, threshold):\n",
    "    \"\"\"Helper function for splitting a node\n",
    "    \n",
    "    :param node: Node to split\n",
    "    :feature_dim: Feature dimension along which to split the node\n",
    "    :threshold: Threshold value used for splitting the node\n",
    "    :returns: Splitted node\n",
    "    \"\"\"    \n",
    "    \n",
    "    # Create `left` and `right` child nodes, initialize each child node with\n",
    "    # the correct subsets of array's `X` and `y`\n",
    "    \n",
    "    # YOUR CODE HERE (please remove 'raise NotImplementedError()')\n",
    "    raise NotImplementedError()\n",
    "    \n",
    "    # Update node that is being split\n",
    "    node.left = left\n",
    "    node.right = right\n",
    "    node.feature_dim = feature_dim\n",
    "    node.threshold = threshold\n",
    "    \n",
    "    return node"
   ]
  },
  {
   "cell_type": "code",
   "execution_count": null,
   "metadata": {
    "deletable": false,
    "editable": false,
    "nbgrader": {
     "cell_type": "code",
     "checksum": "6e9470130ec822a7822001ebb2cfb152",
     "grade": true,
     "grade_id": "cell-a7f78c01c8810570-part-1",
     "locked": true,
     "points": 1,
     "schema_version": 3,
     "solution": false,
     "task": false
    }
   },
   "outputs": [],
   "source": [
    "# Start with root node\n",
    "node = Node(X=X, y=y) \n",
    "\n",
    "# Split node\n",
    "feature_dim = 0\n",
    "threshold = 3.5\n",
    "node = split_node(node, feature_dim=feature_dim, threshold=threshold)\n",
    "\n",
    "# Tests\n",
    "assert node.left.num_samples() + node.right.num_samples() == node.num_samples(), f\"The \\\n",
    "two child nodes need to contain the same number of samples as the parent node. \\\n",
    "`{node.left.num_samples()} + {node.right.num_samples()} != {node.num_samples()}\"\n",
    "np.testing.assert_equal(node.left.X[:,feature_dim] <= 3.5, True)\n",
    "np.testing.assert_equal(node.left.X[:,feature_dim] <= 3.5, True)"
   ]
  },
  {
   "cell_type": "markdown",
   "metadata": {
    "deletable": false,
    "editable": false,
    "nbgrader": {
     "cell_type": "markdown",
     "checksum": "80650ec85aba0d72255461a3bcc7fb52",
     "grade": false,
     "grade_id": "cell-2a0f02c5efef510c",
     "locked": true,
     "schema_version": 3,
     "solution": false,
     "task": false
    }
   },
   "source": [
    "## Accuracy\n",
    "\n",
    "We want to be able to evaluate how well our model performs. A common measure used for classification problems is the accuracy:\n",
    "\n",
    "$$\\text{Accuracy} = \\frac{\\text{Number of correct predictions}}{\\text{Total number of predictions}}$$"
   ]
  },
  {
   "cell_type": "code",
   "execution_count": null,
   "metadata": {
    "deletable": false,
    "nbgrader": {
     "cell_type": "code",
     "checksum": "647cb9ddc1636d282e3fa2e9f0b47b27",
     "grade": false,
     "grade_id": "cell-abedb75e1ddadbcc",
     "locked": false,
     "schema_version": 3,
     "solution": true,
     "task": false
    }
   },
   "outputs": [],
   "source": [
    "@contract(y_pred='array[N]',\n",
    "          y='array[N]',\n",
    "          returns='float, >=0, <=1')\n",
    "def compute_accuracy(y_pred, y):\n",
    "    \"\"\"Compute the accuracy between predicted and true label\n",
    "    \n",
    "    :param y_pred: Predicted label by the model\n",
    "    :param y: True label\n",
    "    :returns: Accuracy\n",
    "    \"\"\"\n",
    "    accuracy = y/y_pred\n",
    "    \n",
    "    return accuracy"
   ]
  },
  {
   "cell_type": "code",
   "execution_count": null,
   "metadata": {
    "deletable": false,
    "editable": false,
    "nbgrader": {
     "cell_type": "code",
     "checksum": "9a40e5f045743edcd23d3678bfc13efe",
     "grade": true,
     "grade_id": "cell-4f07434fd17b1411-part-1",
     "locked": true,
     "points": 1,
     "schema_version": 3,
     "solution": false,
     "task": false
    }
   },
   "outputs": [],
   "source": [
    "assert compute_accuracy(y_pred=np.ones(10), y=np.ones(10)) == 1.0\n",
    "assert compute_accuracy(y_pred=np.zeros(10), y=np.ones(10)) == 0.0\n",
    "assert compute_accuracy(y_pred=np.concatenate([np.ones(5), np.zeros(5)]), y=np.ones(10)) == 0.5"
   ]
  },
  {
   "cell_type": "markdown",
   "metadata": {
    "deletable": false,
    "editable": false,
    "nbgrader": {
     "cell_type": "markdown",
     "checksum": "f4f1a7af7832906863b5b172b1395db5",
     "grade": false,
     "grade_id": "cell-8ac21f3f8348f4e1",
     "locked": true,
     "schema_version": 3,
     "solution": false,
     "task": false
    }
   },
   "source": [
    "## Manually Creating a Decision Tree\n",
    "\n",
    "We now have all the main components for constructing a decision tree: the datastructure for our tree, a way to split node for creating the tree and a metric for evaluating the accuracy of our tree.\n",
    "\n",
    "In order to get a better understanding of how a decision tree works we start with constructing one manually. Your task is construct a decision tree that achieves an accuracy above $0.9$ on our training dataset. You are allowed to make two splits, i.e., you split the root node and one of the two child nodes (left or right). We give you two helper functions for analyzing the results `print_tree` to visualize the decision tree and `plot_surface` for visualizing the decision boundary.\n",
    "\n",
    "Below we have already given an example of a tree with an accuracy of $0.67$."
   ]
  },
  {
   "cell_type": "code",
   "execution_count": null,
   "metadata": {
    "deletable": false,
    "nbgrader": {
     "cell_type": "code",
     "checksum": "423907425cd013c34d5242c6f2d35c0e",
     "grade": false,
     "grade_id": "cell-cb0ae854753a4ded",
     "locked": false,
     "schema_version": 3,
     "solution": true,
     "task": false
    }
   },
   "outputs": [],
   "source": [
    "@contract(X='array[NxD]',\n",
    "          y='array[N]')\n",
    "def manual_tree(X, y):\n",
    "    \"\"\"Construct a Decision Tree manually\n",
    "    \n",
    "    Example:\n",
    "    \n",
    "        split_node(node, 1, 1.2)\n",
    "        split_node(node.right, 0, 1.4)\n",
    "    \n",
    "    :param X: input array\n",
    "    :param y: Array with class labels\n",
    "    :returns: Root node of the tree\n",
    "    \"\"\"\n",
    "    node = Node(X=X, y=y)\n",
    "    \n",
    "    # YOUR CODE HERE (please remove 'raise NotImplementedError()')\n",
    "    raise NotImplementedError()\n",
    "\n",
    "    return node"
   ]
  },
  {
   "cell_type": "code",
   "execution_count": null,
   "metadata": {
    "deletable": false,
    "editable": false,
    "nbgrader": {
     "cell_type": "code",
     "checksum": "8171bab2064e63b2b02a389e9cdb6512",
     "grade": false,
     "grade_id": "cell-a8df6f54c45592ac",
     "locked": true,
     "schema_version": 3,
     "solution": false,
     "task": false
    }
   },
   "outputs": [],
   "source": [
    "node = manual_tree(X=X, y=y)\n",
    "print_tree(node, iris_2d.feature_names, iris_2d.labels, color_palette)"
   ]
  },
  {
   "cell_type": "code",
   "execution_count": null,
   "metadata": {
    "deletable": false,
    "editable": false,
    "nbgrader": {
     "cell_type": "code",
     "checksum": "4de4287db79caef4963d9c0c6d7d3dc4",
     "grade": false,
     "grade_id": "cell-e75a3c09f69e7e2b",
     "locked": true,
     "schema_version": 3,
     "solution": false,
     "task": false
    }
   },
   "outputs": [],
   "source": [
    "y_pred = np.array([node.predict(x) for x in X])\n",
    "accuracy = compute_accuracy(y_pred, y)\n",
    "\n",
    "plot_surface(node=node, \n",
    "             feature_names=iris_2d.feature_names, \n",
    "             markers=[ 'o', 's', '^'], \n",
    "             color_palette=color_palette, \n",
    "             title=f\"Train accuracy: {accuracy:.2f}\")"
   ]
  },
  {
   "cell_type": "code",
   "execution_count": null,
   "metadata": {
    "deletable": false,
    "editable": false,
    "nbgrader": {
     "cell_type": "code",
     "checksum": "20072f4951fb832a94a224057a5049fc",
     "grade": true,
     "grade_id": "cell-7a4b26f11a077195-part-1",
     "locked": true,
     "points": 2,
     "schema_version": 3,
     "solution": false,
     "task": false
    }
   },
   "outputs": [],
   "source": [
    "node = manual_tree(X=X, y=y)\n",
    "\n",
    "# Test accuracy\n",
    "y_pred = np.array([node.predict(x) for x in X])\n",
    "accuracy = compute_accuracy(y_pred, y)\n",
    "assert accuracy > 0.9, f\"Current accuracy of your tree is {accuracy:.2f}. Find two \\\n",
    "splits that result in an accuracy larger than 0.9. Use the figure given a the beginning of \\\n",
    "the notebook to find out what a good split would be.\"\n",
    "\n",
    "# Test if maximum splits is not exceeded\n",
    "def num_splits(node):\n",
    "    \"\"\"Computes the number of splits in a tree\n",
    "    \n",
    "    :returns: Number of splits\n",
    "    \"\"\"\n",
    "    if node.is_leaf():\n",
    "        return 0\n",
    "    else:\n",
    "        return 1 + num_splits(node.left) + num_splits(node.right)\n",
    "assert num_splits(node) <= 2, f\"Your tree contains {num_splits(node)} splits, but only 2 splits \\\n",
    "are allowed.\""
   ]
  },
  {
   "cell_type": "markdown",
   "metadata": {
    "deletable": false,
    "editable": false,
    "nbgrader": {
     "cell_type": "markdown",
     "checksum": "af5b3b52b6de4cc2769f350d40b1a301",
     "grade": false,
     "grade_id": "cell-c6d26dac38dc4a69",
     "locked": true,
     "schema_version": 3,
     "solution": false,
     "task": false
    }
   },
   "source": [
    "<a href=#Overview> [go to top] </a>\n",
    "# Part 2 - Growing a Decision Tree\n",
    "\n",
    "We have all the components to build a decision tree, by hand. But this is a machine learning course, so naturally we would like to learn a decision tree directly from our data. The second part of the notebook will implement all the components necessary for learning a decision tree.\n",
    "\n",
    "Learning, or growing, a decision tree can be described using a simple prodecure:\n"
   ]
  },
  {
   "cell_type": "markdown",
   "metadata": {
    "deletable": false,
    "editable": false,
    "nbgrader": {
     "cell_type": "markdown",
     "checksum": "a88a81a14bd4a6cbf218e8291d4b87cc",
     "grade": false,
     "grade_id": "cell-0decf7b3ed772671",
     "locked": true,
     "schema_version": 3,
     "solution": false,
     "task": false
    }
   },
   "source": [
    "## Impurity Measures\n",
    "\n",
    "When growing a tree we need to determine if a certain split is good or not. For this we can use several impurity measures, in this notebook we will compare the following three:\n",
    "\n",
    "- Classification error\n",
    "- Entropy\n",
    "- Gini Index\n",
    "\n",
    "For this task you will have to implement all three impurity measures below."
   ]
  },
  {
   "cell_type": "code",
   "execution_count": null,
   "metadata": {
    "deletable": false,
    "nbgrader": {
     "cell_type": "code",
     "checksum": "18404262fbcc9d968ff6d2b3e0d21d66",
     "grade": false,
     "grade_id": "cell-dfb694a50ab5d13e",
     "locked": false,
     "schema_version": 3,
     "solution": true,
     "task": false
    }
   },
   "outputs": [],
   "source": [
    "@contract(returns='float, >=0, <=1')\n",
    "def compute_classification_error(node):\n",
    "    \"\"\"Compute impurity of a node using the classification error\n",
    "        \n",
    "    :param node: Node\n",
    "    :returns: Classification error\n",
    "    \"\"\"\n",
    "    \n",
    "    # We cannot compute impurity for a node without samples, therefore \n",
    "    # we set the impurity to maximum classification error (= 1.0)\n",
    "    if node.num_samples() == 0:\n",
    "        return 1.\n",
    "    \n",
    "    # Compute the classification error\n",
    "    # YOUR CODE HERE (please remove 'raise NotImplementedError()')\n",
    "    raise NotImplementedError()\n",
    "    \n",
    "    return classification_error"
   ]
  },
  {
   "cell_type": "code",
   "execution_count": null,
   "metadata": {
    "deletable": false,
    "editable": false,
    "nbgrader": {
     "cell_type": "code",
     "checksum": "3fa1997e368fa901e91808cf3b030822",
     "grade": true,
     "grade_id": "cell-d82f88d62d3d652e",
     "locked": true,
     "points": 1,
     "schema_version": 3,
     "solution": false,
     "task": false
    }
   },
   "outputs": [],
   "source": [
    "left_child = Node(X=X[:40], y=y[:40])\n",
    "right_child = Node(X=X[40:], y=y[40:])\n",
    "node = Node(X=X, \n",
    "            y=y, \n",
    "            left=left_child, \n",
    "            right=right_child, \n",
    "            feature_dim=0, \n",
    "            threshold=3.5)\n",
    "\n",
    "assert abs(compute_classification_error(node) - 0.667) < 1e-3, f\"Classification error for `node` should \\\n",
    "be to {0.667:.3f} but is {compute_classification_error(node):.3f}.\"\n",
    "assert abs(compute_classification_error(left_child)) < 1e-3, f\"Classification error for 'left_child' should be {0.:.3f} but \\\n",
    "is {compute_classification_error(left_child):.3f}.\"\n",
    "assert abs(compute_classification_error(right_child) - 0.545) < 1e-3, f\"Classification error for `right_child` should \\\n",
    "be to {0.545:.3f} but is {compute_classification_error(right_child):.3f}.\""
   ]
  },
  {
   "cell_type": "code",
   "execution_count": null,
   "metadata": {
    "deletable": false,
    "nbgrader": {
     "cell_type": "code",
     "checksum": "b03646baf96f0d470714797f9934c928",
     "grade": false,
     "grade_id": "cell-d2e7e62e7dba104a",
     "locked": false,
     "schema_version": 3,
     "solution": true,
     "task": false
    }
   },
   "outputs": [],
   "source": [
    "@contract(returns='float, >=0')\n",
    "def compute_entropy(node: Node):\n",
    "    \"\"\"Compute the impurity of a node using entropy\n",
    "    \n",
    "    :param node: Node\n",
    "    :returns: Entropy\n",
    "    \"\"\"\n",
    "    \n",
    "    # We cannot compute impurity for a node without samples, therefore \n",
    "    # we set the impurity to maximum entropy. But maximum entropy is dependent\n",
    "    # on number of classes, so instead we set it to a very large value\n",
    "    if node.num_samples() == 0:\n",
    "        return 1e9\n",
    "    \n",
    "    # Compute the entropy\n",
    "    # YOUR CODE HERE (please remove 'raise NotImplementedError()')\n",
    "    raise NotImplementedError()\n",
    "    \n",
    "    return entropy"
   ]
  },
  {
   "cell_type": "code",
   "execution_count": null,
   "metadata": {
    "deletable": false,
    "editable": false,
    "nbgrader": {
     "cell_type": "code",
     "checksum": "f25d8fc25fa880f8a39d62504ae9348b",
     "grade": true,
     "grade_id": "cell-d4f80e27cfbaddbc",
     "locked": true,
     "points": 1,
     "schema_version": 3,
     "solution": false,
     "task": false
    }
   },
   "outputs": [],
   "source": [
    "left_child = Node(X=X[:40], y=y[:40])\n",
    "right_child = Node(X=X[40:], y=y[40:])\n",
    "node = Node(X=X, \n",
    "            y=y, \n",
    "            left=left_child, \n",
    "            right=right_child, \n",
    "            feature_dim=0, \n",
    "            threshold=3.5)\n",
    "\n",
    "assert abs(compute_entropy(node) - 1.585) < 1e-3, f\"Entropy for `node` should \\\n",
    "be to {1.585:.3f} but is {compute_entropy(node):.3f}.\"\n",
    "assert abs(compute_entropy(left_child)) < 1e-3, f\"Entropy for 'left_child' should be {0.:.3f} but \\\n",
    "is {compute_entropy(left_child):.3f}.\"\n",
    "assert abs(compute_entropy(right_child) - 1.349) < 1e-3, f\"Entropy for `right_child` should \\\n",
    "be to {1.349:.3f} but is {compute_entropy(right_child):.3f}.\""
   ]
  },
  {
   "cell_type": "code",
   "execution_count": null,
   "metadata": {
    "deletable": false,
    "nbgrader": {
     "cell_type": "code",
     "checksum": "d85ffa712a3e147a95ce607ce0df5a55",
     "grade": false,
     "grade_id": "cell-ad0d0e0459151820",
     "locked": false,
     "schema_version": 3,
     "solution": true,
     "task": false
    }
   },
   "outputs": [],
   "source": [
    "@contract(returns='float, >=0, <=1')\n",
    "def compute_gini_index(node):\n",
    "    \"\"\"Compute impurity of a node using the Gini index\n",
    "    \n",
    "    :param node: Node\n",
    "    :returns: Gini Index\n",
    "    \"\"\"\n",
    "    \n",
    "    # We cannot compute impurity for a node without samples, therefore \n",
    "    # we set the impurity to Gini index (= 1.0)\n",
    "    if node.num_samples() == 0:\n",
    "        return 1.0\n",
    "    \n",
    "    # Compute the Gini index\n",
    "    # YOUR CODE HERE (please remove 'raise NotImplementedError()')\n",
    "    raise NotImplementedError()\n",
    "    \n",
    "    return gini_index"
   ]
  },
  {
   "cell_type": "code",
   "execution_count": null,
   "metadata": {
    "deletable": false,
    "editable": false,
    "nbgrader": {
     "cell_type": "code",
     "checksum": "b3b606b71b32f51f81f15da43b7ec009",
     "grade": true,
     "grade_id": "cell-253e476ad6dbee08",
     "locked": true,
     "points": 1,
     "schema_version": 3,
     "solution": false,
     "task": false
    }
   },
   "outputs": [],
   "source": [
    "left_child = Node(X=X[:40], y=y[:40])\n",
    "right_child = Node(X=X[40:], y=y[40:])\n",
    "node = Node(X=X, \n",
    "            y=y, \n",
    "            left=left_child, \n",
    "            right=right_child, \n",
    "            feature_dim=0, \n",
    "            threshold=3.5)\n",
    "\n",
    "assert abs(compute_gini_index(node) - 0.667) < 1e-3, f\"Gini index for `node` should \\\n",
    "be to {0.667:.3f} but is {compute_gini_index(node):.3f}.\"\n",
    "assert abs(compute_gini_index(left_child)) < 1e-3, f\"Gini index for 'left_child' should be {0.:.3f} but \\\n",
    "is {compute_gini_index(left_child):.3f}.\"\n",
    "assert abs(compute_gini_index(right_child) - 0.579) < 1e-3, f\"Gini index for `right_child` should \\\n",
    "be to {0.579:.3f} but is {compute_gini_index(right_child):.3f}.\""
   ]
  },
  {
   "cell_type": "markdown",
   "metadata": {
    "deletable": false,
    "editable": false,
    "nbgrader": {
     "cell_type": "markdown",
     "checksum": "d132ebe86abb612f5d4b2f827f03d269",
     "grade": false,
     "grade_id": "cell-f8d6d2075600e0a5",
     "locked": true,
     "schema_version": 3,
     "solution": false,
     "task": false
    }
   },
   "source": [
    "## Node Impurity\n",
    "\n",
    "Now that we have our impurity measures we can compute the actual impurity of a node. "
   ]
  },
  {
   "cell_type": "code",
   "execution_count": null,
   "metadata": {
    "deletable": false,
    "nbgrader": {
     "cell_type": "code",
     "checksum": "fe255a0e3b3b0625a6fb6d6a170c6ab1",
     "grade": false,
     "grade_id": "cell-75725f9d9b4fba27",
     "locked": false,
     "schema_version": 3,
     "solution": true,
     "task": false
    }
   },
   "outputs": [],
   "source": [
    "@contract(returns='float, >=0')\n",
    "def compute_impurity(node, impurity_measure):\n",
    "    \"\"\"Compute the impurity of a node using a given impurity measure\n",
    "    \n",
    "    NOTE: Remember that the impurity of a decision node is determined by its child nodes\n",
    "    \n",
    "    TIP: You can access the children of a node using `node.children` or separately using\n",
    "         `node.left` and `node.right`\n",
    "    \n",
    "    :param node: Node\n",
    "    :param impurity_measure: Impurity measure to use, choices:\n",
    "                               - `compute_classification_error`\n",
    "                               - `compute_entropy`\n",
    "                               - `compute_gini_index`\n",
    "    :returns: Impurity of the node\n",
    "    \"\"\"\n",
    "    \n",
    "    # YOUR CODE HERE (please remove 'raise NotImplementedError()')\n",
    "    raise NotImplementedError()\n",
    "    \n",
    "    return impurity\n",
    "    "
   ]
  },
  {
   "cell_type": "code",
   "execution_count": null,
   "metadata": {
    "deletable": false,
    "editable": false,
    "nbgrader": {
     "cell_type": "code",
     "checksum": "daebf991cd7d1dcc1a5456e648101c0b",
     "grade": true,
     "grade_id": "cell-9e37914aff9346b5",
     "locked": true,
     "points": 1,
     "schema_version": 3,
     "solution": false,
     "task": false
    }
   },
   "outputs": [],
   "source": [
    "left_child = Node(X=X[:40], y=y[:40])\n",
    "right_child = Node(X=X[40:], y=y[40:])\n",
    "node = Node(X=X, \n",
    "            y=y, \n",
    "            left=left_child, \n",
    "            right=right_child, \n",
    "            feature_dim=0, \n",
    "            threshold=3.5)\n",
    "\n",
    "assert abs(compute_impurity(right_child, compute_classification_error)  - 0.545) < 1e-3, f\"Impurity for `right_child` \\\n",
    "using classification error should be to {0.545:.3f} but is {compute_impurity(right_child, compute_classification_error):.3f}.\"\n",
    "assert abs(compute_impurity(right_child, compute_entropy)  - 1.349) < 1e-3, f\"Impurity for `right_child` \\\n",
    "using entropy should be to {1.349:.3f} but is {compute_impurity(right_child, compute_entropy):.3f}.\"\n",
    "assert abs(compute_impurity(right_child, compute_gini_index)  - 0.579) < 1e-3, f\"Impurity for `right_child` \\\n",
    "using Gini index should be to {0.579:.3f} but is {compute_impurity(right_child, compute_gini_index):.3f}.\"\n",
    "\n",
    "assert abs(compute_impurity(node, compute_classification_error) - 0.400) < 1e-3, f\"Impurity for `node` \\\n",
    "using classification error should be to {0.400:.3f} but is {compute_impurity(node, compute_classification_error):.3f}.\"\n",
    "assert abs(compute_impurity(node, compute_entropy)  - 0.989) < 1e-3, f\"Impurity for `node` \\\n",
    "using entropy should be to {0.989:.3f} but is {compute_impurity(node, compute_entropy):.3f}.\"\n",
    "assert abs(compute_impurity(node, compute_gini_index)  - 0.424) < 1e-3, f\"Impurity for `node` \\\n",
    "using Gini index should be to {0.424:.3f} but is {compute_impurity(node, compute_gini_index):.3f}.\""
   ]
  },
  {
   "cell_type": "markdown",
   "metadata": {
    "deletable": false,
    "editable": false,
    "nbgrader": {
     "cell_type": "markdown",
     "checksum": "1aa33be8d344046f043745840929fd47",
     "grade": false,
     "grade_id": "cell-32a1c24944fe1447",
     "locked": true,
     "schema_version": 3,
     "solution": false,
     "task": false
    }
   },
   "source": [
    "## Choosing the Best Node Split\n",
    "\n",
    "The next step for growing our tree is finding the best split for a node. Your task is to implement a function that returns the `feature_dim` and `threshold` of the best split of node, calculated using a given impurity measure."
   ]
  },
  {
   "cell_type": "code",
   "execution_count": null,
   "metadata": {
    "deletable": false,
    "nbgrader": {
     "cell_type": "code",
     "checksum": "e3c2be83ae75ecadcd5be135fb1d4f91",
     "grade": false,
     "grade_id": "cell-c8ff5ab4fa498c60",
     "locked": false,
     "schema_version": 3,
     "solution": true,
     "task": false
    }
   },
   "outputs": [],
   "source": [
    "@contract(returns='tuple(int | None, float | None)')\n",
    "def find_best_split(node, impurity_measure):\n",
    "    \"\"\"Find the best `feature_dim` and `threshold` for splitting a node\n",
    "    \n",
    "    NOTE: The best split has the lowest impurity.\n",
    "    \n",
    "    :param node: Node\n",
    "    :param impurity_measure: Impurity measure to use, choices:\n",
    "                               - `compute_classification_error`\n",
    "                               - `compute_entropy`\n",
    "                               - `compute_gini_index`\n",
    "    :returns: Tuple of feature_dim and threshold for best split. Returns (None, None)\n",
    "              if there exists no split with a better lower impurity than the starting \n",
    "              impurity.\n",
    "    \"\"\"\n",
    "    \n",
    "    # We start with current impurity of the node as `best_impurity`,\n",
    "    # if we cannot find a split resulting in a lower impurity we return\n",
    "    # (None, None)\n",
    "    node = deepcopy(node)\n",
    "    best_feature_dim = None\n",
    "    best_threshold = None\n",
    "    best_impurity = compute_impurity(node, impurity_measure)\n",
    "    \n",
    "    # YOUR CODE HERE (please remove 'raise NotImplementedError()')\n",
    "    raise NotImplementedError()\n",
    "                \n",
    "    return best_feature_dim, best_threshold"
   ]
  },
  {
   "cell_type": "code",
   "execution_count": null,
   "metadata": {
    "deletable": false,
    "editable": false,
    "nbgrader": {
     "cell_type": "code",
     "checksum": "3b7df2372a59e509c26c6e5ba1f40941",
     "grade": true,
     "grade_id": "cell-69dad858f8630a75",
     "locked": true,
     "points": 1,
     "schema_version": 3,
     "solution": false,
     "task": false
    }
   },
   "outputs": [],
   "source": [
    "node = Node(X=X, y=y)\n",
    "\n",
    "feature_dim, threshold = find_best_split(node, compute_classification_error)\n",
    "node = split_node(node, feature_dim, threshold)\n",
    "impurity = compute_impurity(node, compute_classification_error)\n",
    "\n",
    "assert abs(impurity - 0.333) < 1e-3, f\"All best splits that are possible for `node` have a \\\n",
    "Classification error of {0.333:.3f}. The returned split with `feature_dim = {feature_dim}` and \\\n",
    "`threshold = {threshold:.3f}` has a Gini index of {impurity:.3f}.\""
   ]
  },
  {
   "cell_type": "markdown",
   "metadata": {
    "deletable": false,
    "editable": false,
    "nbgrader": {
     "cell_type": "markdown",
     "checksum": "f1185d3d1906e0afd33bb94a9b8b011a",
     "grade": false,
     "grade_id": "cell-10bf8a9226c10c0f",
     "locked": true,
     "schema_version": 3,
     "solution": false,
     "task": false
    }
   },
   "source": [
    "### Examples"
   ]
  },
  {
   "cell_type": "code",
   "execution_count": null,
   "metadata": {
    "deletable": false,
    "editable": false,
    "nbgrader": {
     "cell_type": "code",
     "checksum": "f1366ed89cfb8a4f921fc0acfe43146b",
     "grade": false,
     "grade_id": "cell-8f1aa88929e252e2",
     "locked": true,
     "schema_version": 3,
     "solution": false,
     "task": false
    }
   },
   "outputs": [],
   "source": [
    "titles = [\"Classification Error\", \"Entropy\", \"Gini Index\"]\n",
    "impurity_measures = [compute_classification_error, compute_entropy, compute_gini_index]\n",
    "\n",
    "nodes = []\n",
    "for title, impurity_measure in zip(titles, impurity_measures):\n",
    "    node = Node(X=X, y=y)\n",
    "\n",
    "    node = split_node(node, *find_best_split(node, impurity_measure))\n",
    "    right = split_node(node.right, *find_best_split(node.right, impurity_measure))\n",
    "    \n",
    "    impurity = compute_impurity(node, impurity_measure)\n",
    "    \n",
    "    y_pred = np.array([node.predict(x) for x in X])\n",
    "    accuracy = compute_accuracy(y_pred, y)\n",
    "    \n",
    "    dot = print_tree(node, iris_2d.feature_names, iris_2d.labels, color_palette)\n",
    "    \n",
    "    display(Markdown(f\"### {title}\"))\n",
    "    print(f\"Accuracy: {accuracy:.2f}\")\n",
    "    print(f\"Impurity: {impurity:.2f}\")\n",
    "    print(\"\")\n",
    "    display(dot)"
   ]
  },
  {
   "cell_type": "markdown",
   "metadata": {
    "deletable": false,
    "editable": false,
    "nbgrader": {
     "cell_type": "markdown",
     "checksum": "4b8d10bedba70baf8e3f04d5ef6f342a",
     "grade": false,
     "grade_id": "cell-b2f8351fc709fa11",
     "locked": true,
     "schema_version": 3,
     "solution": false,
     "task": false
    }
   },
   "source": [
    "## Growing a Tree\n",
    "\n",
    "The final task for this notebook is implementing the algorithm for growing our decision tree. The growing algorithm can be implemented as a simple recursive algorithm."
   ]
  },
  {
   "cell_type": "code",
   "execution_count": null,
   "metadata": {
    "deletable": false,
    "nbgrader": {
     "cell_type": "code",
     "checksum": "2e076125381c1889156d3049869caed4",
     "grade": false,
     "grade_id": "cell-dfa5666078a20c48",
     "locked": false,
     "schema_version": 3,
     "solution": true,
     "task": false
    }
   },
   "outputs": [],
   "source": [
    "def grow(node, impurity_measure):\n",
    "    \"\"\"Recursive function for growing the tree\n",
    "    \n",
    "    NOTE: The `find_best_split` function returns (None, None) if no split\n",
    "          can be found.\n",
    "    \n",
    "    :param node: Root node\n",
    "    :param impurity_measure: Impurity measure to use, choices:\n",
    "                               - `compute_classification_error`\n",
    "                               - `compute_entropy`\n",
    "                               - `compute_gini_index`\n",
    "    :returns: Root node\n",
    "    \"\"\"\n",
    "    \n",
    "    # YOUR CODE HERE (please remove 'raise NotImplementedError()')\n",
    "    raise NotImplementedError()\n",
    "    \n",
    "    \n",
    "    return node"
   ]
  },
  {
   "cell_type": "code",
   "execution_count": null,
   "metadata": {
    "deletable": false,
    "editable": false,
    "nbgrader": {
     "cell_type": "code",
     "checksum": "44dd360909770fe2095b5c5c66d893e5",
     "grade": true,
     "grade_id": "cell-4dbc5073bbd78ada",
     "locked": true,
     "points": 1,
     "schema_version": 3,
     "solution": false,
     "task": false
    }
   },
   "outputs": [],
   "source": [
    "node = Node(X=X, y=y)\n",
    "\n",
    "node = grow(node, compute_gini_index)\n",
    "impurity = compute_impurity(node, compute_gini_index)\n",
    "\n",
    "assert abs(impurity) < 0.01, f\"Your `grow` function should be able to create tree \\\n",
    "with an impurity using the gini index smaller than 0.01. The current impurity using \\\n",
    "the gini index is {impurity:.3f}\""
   ]
  },
  {
   "cell_type": "markdown",
   "metadata": {
    "deletable": false,
    "editable": false,
    "nbgrader": {
     "cell_type": "markdown",
     "checksum": "9b832ccaf4f208ba1010b58998feae29",
     "grade": false,
     "grade_id": "cell-5a172f82a085d29d",
     "locked": true,
     "schema_version": 3,
     "solution": false,
     "task": false
    }
   },
   "source": [
    "### Examples\n",
    "\n",
    "NOTE: computing the decision boundaries may take a little while."
   ]
  },
  {
   "cell_type": "code",
   "execution_count": null,
   "metadata": {
    "deletable": false,
    "editable": false,
    "nbgrader": {
     "cell_type": "code",
     "checksum": "d80d14163b058284d7b45de87826258b",
     "grade": false,
     "grade_id": "cell-9430d1bcb70dd6e4",
     "locked": true,
     "schema_version": 3,
     "solution": false,
     "task": false
    }
   },
   "outputs": [],
   "source": [
    "titles = [\"Classification Error\", \"Entropy\", \"Gini Index\"]\n",
    "impurity_measures = [compute_classification_error, compute_entropy, compute_gini_index]\n",
    "\n",
    "nodes = []\n",
    "accuracies = []\n",
    "for title, impurity_measure in zip(titles, impurity_measures):\n",
    "    node = Node(X=X, y=y)\n",
    "\n",
    "    grow(node, impurity_measure)\n",
    "    \n",
    "    impurity = compute_impurity(node, impurity_measure)\n",
    "    \n",
    "    y_pred = np.array([node.predict(x) for x in X])\n",
    "    accuracy = compute_accuracy(y_pred, y)\n",
    "    \n",
    "    dot = print_tree(node, iris_2d.feature_names, iris_2d.labels, color_palette)\n",
    "    \n",
    "    display(Markdown(f\"### {title}\"))\n",
    "    print(f\"Accuracy: {accuracy:.2f}\")\n",
    "    print(f\"Impurity: {impurity:.2f}\")\n",
    "    print(\"\")\n",
    "    display(dot)\n",
    "    \n",
    "    nodes.append(node)\n",
    "    accuracies.append(accuracy)\n",
    "\n",
    "    \n",
    "display(Markdown(f\"### Decision Boundaries\"))\n",
    "fig, axes = plt.subplots(1, 3, figsize=(18, 6))\n",
    "for node, ax, title, accuracy in zip(nodes, axes, titles, accuracies):\n",
    "    plot_surface(node, \n",
    "                 feature_names=iris_2d.feature_names,\n",
    "                 markers=[ 'o', 's', '^'], \n",
    "                 color_palette=color_palette, \n",
    "                 title=f\"{title} (Accuracy: {accuracy:.2f})\", \n",
    "                 ax=ax)"
   ]
  },
  {
   "cell_type": "markdown",
   "metadata": {
    "deletable": false,
    "editable": false,
    "nbgrader": {
     "cell_type": "markdown",
     "checksum": "047766a74cf565cbee4adc8043b35ba1",
     "grade": false,
     "grade_id": "cell-0aa8a114a5c64490",
     "locked": true,
     "schema_version": 3,
     "solution": false,
     "task": false
    }
   },
   "source": [
    "<a href=#Overview> [go to top] </a>\n",
    "# Part 3 - Full Iris Dataset & Scikit-Learn\n",
    "\n",
    "This part does not contain any programming tasks. We will use the methods you implemented above to construct a decision tree for the full iris dataset (using all four instead of two feature dimensions) and compare the results with those obtained using the `DecisionTreeClassifier` of scikit-learn."
   ]
  },
  {
   "cell_type": "code",
   "execution_count": null,
   "metadata": {
    "deletable": false,
    "editable": false,
    "nbgrader": {
     "cell_type": "code",
     "checksum": "ab15f7b01132b3a93dcaf988e5384824",
     "grade": false,
     "grade_id": "cell-299be9e4a3650b23",
     "locked": true,
     "schema_version": 3,
     "solution": false,
     "task": false
    }
   },
   "outputs": [],
   "source": [
    "# Load extra packages\n",
    "from sklearn.tree import DecisionTreeClassifier, export_graphviz\n",
    "from sklearn.model_selection import train_test_split\n",
    "from graphviz import Source"
   ]
  },
  {
   "cell_type": "markdown",
   "metadata": {
    "deletable": false,
    "editable": false,
    "nbgrader": {
     "cell_type": "markdown",
     "checksum": "524009560c12295783c2f6c7ef777330",
     "grade": false,
     "grade_id": "cell-5cd93335a6f17453",
     "locked": true,
     "schema_version": 3,
     "solution": false,
     "task": false
    }
   },
   "source": [
    "## Data "
   ]
  },
  {
   "cell_type": "code",
   "execution_count": null,
   "metadata": {
    "deletable": false,
    "editable": false,
    "nbgrader": {
     "cell_type": "code",
     "checksum": "5d57a54f264af4b4a5e3fefab320cb42",
     "grade": false,
     "grade_id": "cell-8462911e21d73a0b",
     "locked": true,
     "schema_version": 3,
     "solution": false,
     "task": false
    }
   },
   "outputs": [],
   "source": [
    "iris = load_iris()\n",
    "iris.labels = iris.target_names\n",
    "\n",
    "print(\"DATASET INFO:\\n-------------\")\n",
    "print(f\"Features:    {iris.feature_names}\")\n",
    "print(f\"Labels:      {iris.labels}\")\n",
    "print(f\"Num samples: {len(iris.data)}\")\n",
    "\n",
    "# Convert to pandas dataframe \n",
    "df = pd.DataFrame(data=iris.data, columns=iris.feature_names)\n",
    "df['label'] = pd.Series(iris.labels[iris.target], dtype='category')\n",
    "\n",
    "print(\"\\nRandom samples from dataset:\")\n",
    "df.sample(frac = 1).head(10)"
   ]
  },
  {
   "cell_type": "markdown",
   "metadata": {
    "deletable": false,
    "editable": false,
    "nbgrader": {
     "cell_type": "markdown",
     "checksum": "cc04fdb1261464f4cc734caa83e1a3f4",
     "grade": false,
     "grade_id": "cell-b0d6604e4e851327",
     "locked": true,
     "schema_version": 3,
     "solution": false,
     "task": false
    }
   },
   "source": [
    "## Create Train and Test Dataset"
   ]
  },
  {
   "cell_type": "code",
   "execution_count": null,
   "metadata": {},
   "outputs": [],
   "source": [
    "X_train, X_test, y_train, y_test = train_test_split(iris.data, iris.labels[iris.target], test_size=0.35, random_state=42)"
   ]
  },
  {
   "cell_type": "markdown",
   "metadata": {
    "deletable": false,
    "editable": false,
    "nbgrader": {
     "cell_type": "markdown",
     "checksum": "06223bc16fe3b787d40d5d378b2296ce",
     "grade": false,
     "grade_id": "cell-abd90cbee8aca7c2",
     "locked": true,
     "schema_version": 3,
     "solution": false,
     "task": false
    }
   },
   "source": [
    "## Using Your Implementation\n",
    "\n",
    "Below we have implemented a `DecisionTree` class for you offering a similar interface to the algorithms from scikit-learn. Under the hood the `DecisionTree` class uses the functions you have implemented"
   ]
  },
  {
   "cell_type": "code",
   "execution_count": null,
   "metadata": {},
   "outputs": [],
   "source": [
    "class DecisionTree():\n",
    "    \"\"\"Decision Tree class with similar interface to scikit-learn\n",
    "    \"\"\"\n",
    "    \n",
    "    def __init__(self, criterion):\n",
    "        if criterion == 'gini':\n",
    "            self.impurity_measure = compute_gini_index\n",
    "        elif criterion == 'entropy':\n",
    "            self.impurity_measure = compute_entropy\n",
    "        elif criterion == 'classification_error':\n",
    "            self.impurity_measure = compute_classification_error\n",
    "        else:\n",
    "            raise ValueError(f\"{criterion} is not a valid criterion, choose \\\n",
    "from [gini, entropy, classification_error]\")\n",
    "            \n",
    "        self.root = None\n",
    "    \n",
    "    def fit(self, X, y):\n",
    "        self.root = grow(Node(X=X, y=y), self.impurity_measure)\n",
    "        \n",
    "    def score(self, X, y):\n",
    "        assert self.root is not None, f\"Cannot use score when no tree has ben learned \\\n",
    "use `DecisionTree.fit` first.\"\n",
    "        \n",
    "        y_pred = np.array([self.root.predict(x) for x in X])\n",
    "        accuracy = compute_accuracy(y_pred, y)\n",
    "        \n",
    "        return accuracy"
   ]
  },
  {
   "cell_type": "code",
   "execution_count": null,
   "metadata": {},
   "outputs": [],
   "source": [
    "criterion = 'gini'\n",
    "# criterion = 'entropy'\n",
    "\n",
    "tree = DecisionTree(criterion=criterion)\n",
    "tree.fit(X_train, y_train)\n",
    "\n",
    "accuracy_train = tree.score(X_train, y_train)\n",
    "accuracy_test = tree.score(X_test, y_test)\n",
    "\n",
    "print(f\"Criterion:      {criterion}\")\n",
    "print(f\"Train accuracy: {accuracy_train:.2f}\")\n",
    "print(f\"Test accuracy:  {accuracy_test:.2f}\\n\")\n",
    "print_tree(tree, iris.feature_names, iris.labels, color_palette)"
   ]
  },
  {
   "cell_type": "markdown",
   "metadata": {
    "deletable": false,
    "editable": false,
    "nbgrader": {
     "cell_type": "markdown",
     "checksum": "bf12eaac28acbcb5385b71e60f20e2dd",
     "grade": false,
     "grade_id": "cell-a6be009af74274fc",
     "locked": true,
     "schema_version": 3,
     "solution": false,
     "task": false
    }
   },
   "source": [
    "## Using Scikit-Learn\n",
    "\n",
    "Below the implementation using scikit-learn. Compare the decision tree from scikit-learn with your decision tree; are they the same? Do you have the same accuracy? In the code cell above you can change the `criterion` to see if the results are also the same for other impurity measures (scikit-learn only supports 'gini' and 'entropy')"
   ]
  },
  {
   "cell_type": "code",
   "execution_count": null,
   "metadata": {},
   "outputs": [],
   "source": [
    "tree_sklearn = DecisionTreeClassifier(criterion=criterion)\n",
    "tree_sklearn.fit(X_train, y_train)\n",
    "\n",
    "accuracy_train = tree_sklearn.score(X_train, y_train)\n",
    "accuracy_test = tree_sklearn.score(X_test, y_test)\n",
    "\n",
    "print(f\"Criterion:      {criterion}\")\n",
    "print(f\"Train accuracy: {accuracy_train:.2f}\")\n",
    "print(f\"Test accuracy:  {accuracy_test:.2f}\\n\")\n",
    "\n",
    "Source(export_graphviz(\n",
    "        tree_sklearn,\n",
    "        out_file=None,\n",
    "        feature_names=iris.feature_names,\n",
    "        class_names=iris.target_names,\n",
    "        rounded=True,\n",
    "        filled=True,\n",
    "        impurity=False\n",
    "))"
   ]
  }
 ],
 "metadata": {
  "kernelspec": {
   "display_name": "Python 3 (ipykernel)",
   "language": "python",
   "name": "python3"
  },
  "language_info": {
   "codemirror_mode": {
    "name": "ipython",
    "version": 3
   },
   "file_extension": ".py",
   "mimetype": "text/x-python",
   "name": "python",
   "nbconvert_exporter": "python",
   "pygments_lexer": "ipython3",
   "version": "3.9.12"
  },
  "toc": {
   "base_numbering": 1,
   "nav_menu": {},
   "number_sections": true,
   "sideBar": true,
   "skip_h1_title": false,
   "title_cell": "Table of Contents",
   "title_sidebar": "Contents",
   "toc_cell": false,
   "toc_position": {
    "height": "calc(100% - 180px)",
    "left": "10px",
    "top": "150px",
    "width": "165px"
   },
   "toc_section_display": true,
   "toc_window_display": true
  },
  "varInspector": {
   "cols": {
    "lenName": 16,
    "lenType": 16,
    "lenVar": 40
   },
   "kernels_config": {
    "python": {
     "delete_cmd_postfix": "",
     "delete_cmd_prefix": "del ",
     "library": "var_list.py",
     "varRefreshCmd": "print(var_dic_list())"
    },
    "r": {
     "delete_cmd_postfix": ") ",
     "delete_cmd_prefix": "rm(",
     "library": "var_list.r",
     "varRefreshCmd": "cat(var_dic_list()) "
    }
   },
   "types_to_exclude": [
    "module",
    "function",
    "builtin_function_or_method",
    "instance",
    "_Feature"
   ],
   "window_display": false
  }
 },
 "nbformat": 4,
 "nbformat_minor": 4
}
